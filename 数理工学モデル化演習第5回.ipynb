{
 "cells": [
  {
   "cell_type": "code",
   "execution_count": 40,
   "metadata": {},
   "outputs": [],
   "source": [
    "import pandas\n",
    "s_dfm = pandas.read_csv('students.csv')"
   ]
  },
  {
   "cell_type": "code",
   "execution_count": 41,
   "metadata": {},
   "outputs": [
    {
     "data": {
      "text/plain": [
       "318"
      ]
     },
     "execution_count": 41,
     "metadata": {},
     "output_type": "execute_result"
    }
   ],
   "source": [
    "len(s_dfm)"
   ]
  },
  {
   "cell_type": "code",
   "execution_count": 42,
   "metadata": {},
   "outputs": [
    {
     "data": {
      "text/html": [
       "<div>\n",
       "<style scoped>\n",
       "    .dataframe tbody tr th:only-of-type {\n",
       "        vertical-align: middle;\n",
       "    }\n",
       "\n",
       "    .dataframe tbody tr th {\n",
       "        vertical-align: top;\n",
       "    }\n",
       "\n",
       "    .dataframe thead th {\n",
       "        text-align: right;\n",
       "    }\n",
       "</style>\n",
       "<table border=\"1\" class=\"dataframe\">\n",
       "  <thead>\n",
       "    <tr style=\"text-align: right;\">\n",
       "      <th></th>\n",
       "      <th>student_id</th>\n",
       "      <th>gender</th>\n",
       "      <th>leader_flag</th>\n",
       "      <th>support_flag</th>\n",
       "      <th>score</th>\n",
       "    </tr>\n",
       "  </thead>\n",
       "  <tbody>\n",
       "    <tr>\n",
       "      <th>0</th>\n",
       "      <td>1</td>\n",
       "      <td>0</td>\n",
       "      <td>0</td>\n",
       "      <td>0</td>\n",
       "      <td>335</td>\n",
       "    </tr>\n",
       "    <tr>\n",
       "      <th>1</th>\n",
       "      <td>2</td>\n",
       "      <td>1</td>\n",
       "      <td>0</td>\n",
       "      <td>0</td>\n",
       "      <td>379</td>\n",
       "    </tr>\n",
       "    <tr>\n",
       "      <th>2</th>\n",
       "      <td>3</td>\n",
       "      <td>0</td>\n",
       "      <td>0</td>\n",
       "      <td>0</td>\n",
       "      <td>350</td>\n",
       "    </tr>\n",
       "    <tr>\n",
       "      <th>3</th>\n",
       "      <td>4</td>\n",
       "      <td>0</td>\n",
       "      <td>0</td>\n",
       "      <td>0</td>\n",
       "      <td>301</td>\n",
       "    </tr>\n",
       "    <tr>\n",
       "      <th>4</th>\n",
       "      <td>5</td>\n",
       "      <td>1</td>\n",
       "      <td>0</td>\n",
       "      <td>0</td>\n",
       "      <td>317</td>\n",
       "    </tr>\n",
       "  </tbody>\n",
       "</table>\n",
       "</div>"
      ],
      "text/plain": [
       "   student_id  gender  leader_flag  support_flag  score\n",
       "0           1       0            0             0    335\n",
       "1           2       1            0             0    379\n",
       "2           3       0            0             0    350\n",
       "3           4       0            0             0    301\n",
       "4           5       1            0             0    317"
      ]
     },
     "execution_count": 42,
     "metadata": {},
     "output_type": "execute_result"
    }
   ],
   "source": [
    "s_dfm.head()"
   ]
  },
  {
   "cell_type": "code",
   "execution_count": 43,
   "metadata": {},
   "outputs": [
    {
     "data": {
      "text/plain": [
       "0        1\n",
       "1        2\n",
       "2        3\n",
       "3        4\n",
       "4        5\n",
       "      ... \n",
       "313    314\n",
       "314    315\n",
       "315    316\n",
       "316    317\n",
       "317    318\n",
       "Name: student_id, Length: 318, dtype: int64"
      ]
     },
     "execution_count": 43,
     "metadata": {},
     "output_type": "execute_result"
    }
   ],
   "source": [
    "s_dfm.student_id"
   ]
  },
  {
   "cell_type": "code",
   "execution_count": 44,
   "metadata": {},
   "outputs": [
    {
     "data": {
      "text/plain": [
       "318"
      ]
     },
     "execution_count": 44,
     "metadata": {},
     "output_type": "execute_result"
    }
   ],
   "source": [
    "s_dfm.student_id.max()"
   ]
  },
  {
   "cell_type": "code",
   "execution_count": 45,
   "metadata": {},
   "outputs": [
    {
     "data": {
      "text/plain": [
       "1"
      ]
     },
     "execution_count": 45,
     "metadata": {},
     "output_type": "execute_result"
    }
   ],
   "source": [
    "s_dfm.student_id.min()"
   ]
  },
  {
   "cell_type": "code",
   "execution_count": 46,
   "metadata": {},
   "outputs": [
    {
     "data": {
      "text/plain": [
       "True"
      ]
     },
     "execution_count": 46,
     "metadata": {},
     "output_type": "execute_result"
    }
   ],
   "source": [
    "set(range(1,319)) == set(s_dfm.student_id.tolist())"
   ]
  },
  {
   "cell_type": "code",
   "execution_count": 47,
   "metadata": {},
   "outputs": [
    {
     "data": {
      "text/plain": [
       "0    160\n",
       "1    158\n",
       "Name: gender, dtype: int64"
      ]
     },
     "execution_count": 47,
     "metadata": {},
     "output_type": "execute_result"
    }
   ],
   "source": [
    "s_dfm.gender.value_counts()"
   ]
  },
  {
   "cell_type": "code",
   "execution_count": 48,
   "metadata": {},
   "outputs": [
    {
     "data": {
      "text/plain": [
       "count    318.000000\n",
       "mean     303.644654\n",
       "std       65.179995\n",
       "min       88.000000\n",
       "25%      261.000000\n",
       "50%      310.000000\n",
       "75%      350.000000\n",
       "max      485.000000\n",
       "Name: score, dtype: float64"
      ]
     },
     "execution_count": 48,
     "metadata": {},
     "output_type": "execute_result"
    }
   ],
   "source": [
    "s_dfm.score.describe()"
   ]
  },
  {
   "cell_type": "code",
   "execution_count": 49,
   "metadata": {},
   "outputs": [],
   "source": [
    "%matplotlib inline"
   ]
  },
  {
   "cell_type": "code",
   "execution_count": 50,
   "metadata": {},
   "outputs": [
    {
     "data": {
      "text/plain": [
       "<matplotlib.axes._subplots.AxesSubplot at 0x1f36d8bf108>"
      ]
     },
     "execution_count": 50,
     "metadata": {},
     "output_type": "execute_result"
    },
    {
     "data": {
      "image/png": "[encoded data removed]",
      "text/plain": [
       "<Figure size 432x288 with 1 Axes>"
      ]
     },
     "metadata": {
      "needs_background": "light"
     },
     "output_type": "display_data"
    }
   ],
   "source": [
    "s_dfm.score.hist()"
   ]
  },
  {
   "cell_type": "code",
   "execution_count": 51,
   "metadata": {},
   "outputs": [
    {
     "data": {
      "text/plain": [
       "0    301\n",
       "1     17\n",
       "Name: leader_flag, dtype: int64"
      ]
     },
     "execution_count": 51,
     "metadata": {},
     "output_type": "execute_result"
    }
   ],
   "source": [
    "s_dfm.leader_flag.value_counts()"
   ]
  },
  {
   "cell_type": "code",
   "execution_count": 52,
   "metadata": {},
   "outputs": [
    {
     "data": {
      "text/plain": [
       "0    314\n",
       "1      4\n",
       "Name: support_flag, dtype: int64"
      ]
     },
     "execution_count": 52,
     "metadata": {},
     "output_type": "execute_result"
    }
   ],
   "source": [
    "s_dfm.support_flag.value_counts()"
   ]
  },
  {
   "cell_type": "code",
   "execution_count": 53,
   "metadata": {},
   "outputs": [
    {
     "name": "stdout",
     "output_type": "stream",
     "text": [
      "3\n"
     ]
    }
   ],
   "source": [
    "s_pair_dfm = pandas.read_csv('student_pairs.csv')\n",
    "print(len(s_pair_dfm))"
   ]
  },
  {
   "cell_type": "code",
   "execution_count": 54,
   "metadata": {},
   "outputs": [
    {
     "data": {
      "text/html": [
       "<div>\n",
       "<style scoped>\n",
       "    .dataframe tbody tr th:only-of-type {\n",
       "        vertical-align: middle;\n",
       "    }\n",
       "\n",
       "    .dataframe tbody tr th {\n",
       "        vertical-align: top;\n",
       "    }\n",
       "\n",
       "    .dataframe thead th {\n",
       "        text-align: right;\n",
       "    }\n",
       "</style>\n",
       "<table border=\"1\" class=\"dataframe\">\n",
       "  <thead>\n",
       "    <tr style=\"text-align: right;\">\n",
       "      <th></th>\n",
       "      <th>student_id1</th>\n",
       "      <th>student_id2</th>\n",
       "    </tr>\n",
       "  </thead>\n",
       "  <tbody>\n",
       "    <tr>\n",
       "      <th>0</th>\n",
       "      <td>118</td>\n",
       "      <td>189</td>\n",
       "    </tr>\n",
       "    <tr>\n",
       "      <th>1</th>\n",
       "      <td>72</td>\n",
       "      <td>50</td>\n",
       "    </tr>\n",
       "    <tr>\n",
       "      <th>2</th>\n",
       "      <td>314</td>\n",
       "      <td>233</td>\n",
       "    </tr>\n",
       "  </tbody>\n",
       "</table>\n",
       "</div>"
      ],
      "text/plain": [
       "   student_id1  student_id2\n",
       "0          118          189\n",
       "1           72           50\n",
       "2          314          233"
      ]
     },
     "execution_count": 54,
     "metadata": {},
     "output_type": "execute_result"
    }
   ],
   "source": [
    "s_pair_dfm.head()"
   ]
  },
  {
   "cell_type": "code",
   "execution_count": null,
   "metadata": {},
   "outputs": [],
   "source": []
  },
  {
   "cell_type": "code",
   "execution_count": null,
   "metadata": {},
   "outputs": [],
   "source": []
  },
  {
   "cell_type": "code",
   "execution_count": 55,
   "metadata": {},
   "outputs": [],
   "source": [
    "import pulp"
   ]
  },
  {
   "cell_type": "code",
   "execution_count": 56,
   "metadata": {},
   "outputs": [],
   "source": [
    "# 数理モデルのインスタンス作成\n",
    "prob = pulp.LpProblem('ClassAssignmentProblem', pulp.LpMaximize)"
   ]
  },
  {
   "cell_type": "code",
   "execution_count": 57,
   "metadata": {},
   "outputs": [],
   "source": [
    "# 生徒のリスト\n",
    "S = s_dfm.student_id.tolist()"
   ]
  },
  {
   "cell_type": "code",
   "execution_count": 58,
   "metadata": {},
   "outputs": [],
   "source": [
    "# クラスのリスト\n",
    "C = ['A', 'B', 'C', 'D', 'E', 'F', 'G', 'H']"
   ]
  },
  {
   "cell_type": "code",
   "execution_count": 59,
   "metadata": {},
   "outputs": [],
   "source": [
    "# 生徒とクラスのペアのリスト\n",
    "SC = [(s,c) for s in S for c in C]\n",
    "\n",
    "# 生徒をどのクラスに割り当てるかを変数として定義\n",
    "x = pulp.LpVariable.dicts('x', SC, cat='Binary')"
   ]
  },
  {
   "cell_type": "code",
   "execution_count": 60,
   "metadata": {},
   "outputs": [],
   "source": [
    "# (1)各生徒は１つのクラスに割り当てる\n",
    "for s in S:\n",
    "    prob += pulp.lpSum([x[s,c] for c in C]) == 1"
   ]
  },
  {
   "cell_type": "code",
   "execution_count": 61,
   "metadata": {},
   "outputs": [],
   "source": [
    "# (2)各クラスの生徒の人数は39人以上、40人以下とする。\n",
    "for c in C:\n",
    "    prob += pulp.lpSum([x[s,c] for s in S]) >= 39\n",
    "    prob += pulp.lpSum([x[s,c] for s in S]) <= 40"
   ]
  },
  {
   "cell_type": "code",
   "execution_count": 62,
   "metadata": {},
   "outputs": [],
   "source": [
    "# 男子生徒のリスト\n",
    "S_male = [row.student_id for row in s_dfm.itertuples() if row.gender == 1]\n",
    "\n",
    "# 女子生徒のリスト\n",
    "S_female = [row.student_id for row in s_dfm.itertuples() if row.gender == 0]\n",
    "\n",
    "# (3) 各クラスの男子生徒、女子生徒の人数は20人以下とする。\n",
    "for c in C:\n",
    "    prob += pulp.lpSum([x[s,c] for s in S_male]) <= 20\n",
    "    prob += pulp.lpSum([x[s,c] for s in S_female]) <= 20"
   ]
  },
  {
   "cell_type": "code",
   "execution_count": 63,
   "metadata": {},
   "outputs": [],
   "source": [
    "# 学力を辞書表現に変換\n",
    "score = dict([(row.student_id, row.score) for row in s_dfm.itertuples()])\n",
    "\n",
    "# 平均点の算出\n",
    "score_mean = s_dfm.score.mean()    \n",
    "    \n",
    "# (4) 各クラスの学力試験の平均点は学年平均点±10点とする。    \n",
    "for c in C:\n",
    "    prob += (score_mean - 10) * pulp.lpSum([x[s,c] for s in S]) <= pulp.lpSum([x[s,c]*score[s] for s in S]) \n",
    "    prob += pulp.lpSum([x[s,c]*score[s] for s in S]) <= (score_mean + 10) * pulp.lpSum([x[s,c] for s in S])"
   ]
  },
  {
   "cell_type": "code",
   "execution_count": 64,
   "metadata": {},
   "outputs": [],
   "source": [
    "# リーダー気質の生徒の集合\n",
    "S_leader = [row.student_id for row in s_dfm.itertuples() if row.leader_flag == 1]\n",
    "\n",
    "# (5)各クラスにリーダー気質の生徒を2人以上割り当てる。\n",
    "for c in C:\n",
    "    prob += pulp.lpSum([x[s,c] for s in S_leader]) >= 2"
   ]
  },
  {
   "cell_type": "code",
   "execution_count": 65,
   "metadata": {},
   "outputs": [],
   "source": [
    "# 特別な支援が必要な生徒の集合\n",
    "S_support = [row.student_id for row in s_dfm.itertuples() if row.support_flag == 1]\n",
    "\n",
    "# (6) 特別な支援が必要な生徒は各クラスに1人以下とする。\n",
    "for c in C:\n",
    "    prob += pulp.lpSum([x[s,c] for s in S_support]) <= 1"
   ]
  },
  {
   "cell_type": "code",
   "execution_count": 66,
   "metadata": {},
   "outputs": [],
   "source": [
    "# 生徒の特定ペアリスト\n",
    "SS = [(row.student_id1, row.student_id2) for row in s_pair_dfm.itertuples()]\n",
    "\n",
    "# (7) 特定ペアの生徒は同一クラスに割り当てない。\n",
    "for s1, s2 in SS:\n",
    "    for c in C:\n",
    "        prob += x[s1,c] + x[s2,c] <= 1"
   ]
  },
  {
   "cell_type": "code",
   "execution_count": 67,
   "metadata": {},
   "outputs": [
    {
     "name": "stdout",
     "output_type": "stream",
     "text": [
      "1\n",
      "Optimal\n"
     ]
    }
   ],
   "source": [
    "status = prob.solve()\n",
    "print(status)\n",
    "print(pulp.LpStatus[status])"
   ]
  },
  {
   "cell_type": "code",
   "execution_count": 68,
   "metadata": {},
   "outputs": [
    {
     "name": "stdout",
     "output_type": "stream",
     "text": [
      "Class: A\n",
      "Num: 40\n",
      "Student: [2, 9, 19, 39, 42, 63, 65, 71, 79, 83, 85, 88, 99, 101, 109, 111, 123, 126, 136, 138, 145, 148, 165, 168, 173, 177, 179, 180, 193, 199, 206, 224, 233, 240, 246, 264, 267, 291, 292, 298]\n",
      "\n",
      "Class: B\n",
      "Num: 39\n",
      "Student: [1, 11, 15, 43, 48, 50, 70, 82, 89, 91, 102, 104, 113, 114, 120, 121, 124, 127, 134, 149, 159, 167, 170, 176, 190, 203, 213, 220, 222, 231, 238, 245, 270, 275, 276, 283, 287, 290, 317]\n",
      "\n",
      "Class: C\n",
      "Num: 40\n",
      "Student: [3, 14, 23, 25, 27, 31, 33, 41, 49, 53, 54, 58, 73, 93, 97, 98, 107, 122, 152, 156, 160, 171, 187, 210, 211, 217, 219, 227, 236, 242, 254, 258, 260, 268, 273, 274, 277, 278, 301, 318]\n",
      "\n",
      "Class: D\n",
      "Num: 40\n",
      "Student: [10, 13, 16, 20, 36, 37, 51, 56, 59, 61, 67, 68, 75, 84, 92, 108, 128, 139, 140, 142, 146, 158, 161, 175, 183, 192, 198, 200, 221, 225, 235, 241, 252, 255, 256, 257, 266, 284, 293, 316]\n",
      "\n",
      "Class: E\n",
      "Num: 40\n",
      "Student: [4, 5, 21, 22, 24, 38, 69, 72, 78, 87, 96, 105, 106, 115, 129, 132, 141, 143, 150, 154, 164, 166, 184, 189, 195, 196, 197, 243, 244, 247, 249, 250, 269, 271, 288, 300, 305, 309, 310, 315]\n",
      "\n",
      "Class: F\n",
      "Num: 40\n",
      "Student: [12, 17, 40, 45, 46, 74, 76, 80, 95, 100, 103, 110, 112, 116, 119, 125, 130, 135, 144, 151, 153, 169, 178, 182, 185, 188, 202, 205, 209, 230, 232, 237, 239, 272, 281, 282, 289, 303, 304, 306]\n",
      "\n",
      "Class: G\n",
      "Num: 40\n",
      "Student: [7, 18, 28, 32, 35, 44, 52, 55, 57, 60, 64, 66, 81, 117, 118, 131, 147, 155, 172, 181, 186, 194, 204, 207, 208, 214, 215, 216, 223, 226, 228, 229, 262, 265, 279, 280, 296, 299, 308, 313]\n",
      "\n",
      "Class: H\n",
      "Num: 39\n",
      "Student: [6, 8, 26, 29, 30, 34, 47, 62, 77, 86, 90, 94, 133, 137, 157, 162, 163, 174, 191, 201, 212, 218, 234, 248, 251, 253, 259, 261, 263, 285, 286, 294, 295, 297, 302, 307, 311, 312, 314]\n",
      "\n"
     ]
    }
   ],
   "source": [
    "# 最適化結果の表示\n",
    "# 各クラスに割り当てられている生徒のリストを辞書に格納\n",
    "C2Ss = {}\n",
    "for c in C:\n",
    "    C2Ss[c] = [s for s in S if x[s,c].value()==1]\n",
    "\n",
    "            \n",
    "for c, Ss in C2Ss.items():\n",
    "    print('Class:', c)\n",
    "    print('Num:', len(Ss))\n",
    "    print('Student:', Ss)\n",
    "    print()"
   ]
  },
  {
   "cell_type": "code",
   "execution_count": null,
   "metadata": {},
   "outputs": [],
   "source": []
  },
  {
   "cell_type": "code",
   "execution_count": 86,
   "metadata": {},
   "outputs": [
    {
     "name": "stdout",
     "output_type": "stream",
     "text": [
      "Status: Optimal\n",
      "Class: A\n",
      "Num: 40\n",
      "Student: [2, 23, 56, 68, 76, 82, 89, 102, 106, 113, 115, 121, 123, 124, 127, 140, 172, 173, 185, 186, 204, 210, 228, 255, 267, 273, 274, 280, 285, 288, 289, 292, 295, 297, 304, 308, 311, 313, 316, 318]\n",
      "\n",
      "Class: B\n",
      "Num: 39\n",
      "Student: [11, 14, 17, 30, 32, 35, 41, 49, 64, 66, 79, 83, 86, 88, 97, 114, 119, 122, 132, 134, 141, 149, 151, 165, 175, 178, 190, 198, 200, 209, 213, 216, 226, 237, 272, 296, 303, 306, 307]\n",
      "\n",
      "Class: C\n",
      "Num: 40\n",
      "Student: [21, 38, 44, 46, 51, 54, 62, 63, 73, 75, 84, 85, 99, 120, 138, 142, 143, 144, 150, 166, 183, 184, 192, 193, 195, 201, 205, 207, 211, 212, 217, 221, 222, 243, 244, 263, 264, 287, 299, 315]\n",
      "\n",
      "Class: D\n",
      "Num: 40\n",
      "Student: [5, 24, 39, 47, 50, 61, 67, 74, 90, 92, 93, 100, 109, 116, 131, 136, 147, 152, 155, 167, 169, 170, 176, 177, 196, 199, 214, 218, 219, 227, 230, 231, 236, 238, 239, 253, 257, 259, 271, 309]\n",
      "\n",
      "Class: E\n",
      "Num: 39\n",
      "Student: [4, 8, 12, 13, 19, 22, 33, 43, 48, 55, 57, 59, 98, 112, 125, 130, 133, 137, 139, 153, 160, 189, 203, 234, 235, 240, 241, 249, 251, 254, 256, 261, 266, 268, 276, 283, 291, 294, 302]\n",
      "\n",
      "Class: F\n",
      "Num: 40\n",
      "Student: [1, 6, 16, 27, 28, 29, 40, 42, 45, 58, 70, 77, 91, 118, 128, 129, 135, 145, 146, 148, 156, 161, 162, 163, 174, 181, 188, 194, 202, 224, 229, 246, 258, 260, 262, 265, 286, 290, 300, 310]\n",
      "\n",
      "Class: G\n",
      "Num: 40\n",
      "Student: [7, 9, 10, 15, 18, 26, 31, 36, 37, 52, 71, 78, 80, 94, 96, 101, 104, 110, 126, 157, 159, 179, 180, 182, 191, 197, 215, 242, 245, 247, 248, 252, 275, 277, 282, 293, 298, 305, 312, 314]\n",
      "\n",
      "Class: H\n",
      "Num: 40\n",
      "Student: [3, 20, 25, 34, 53, 60, 65, 69, 72, 81, 87, 95, 103, 105, 107, 108, 111, 117, 154, 158, 164, 168, 171, 187, 206, 208, 220, 223, 225, 232, 233, 250, 269, 270, 278, 279, 281, 284, 301, 317]\n",
      "\n"
     ]
    }
   ],
   "source": [
    "import pandas\n",
    "import pulp\n",
    "\n",
    "s_dfm = pandas.read_csv('students.csv')\n",
    "s_pair_dfm = pandas.read_csv('student_pairs.csv')\n",
    "\n",
    "prob = pulp.LpProblem('ClassAssignmentProblem', pulp.LpMaximize)\n",
    "\n",
    "# 生徒のリスト\n",
    "S = s_dfm.student_id.tolist()\n",
    "\n",
    "# クラスのリスト\n",
    "C = ['A', 'B', 'C', 'D', 'E', 'F', 'G', 'H']\n",
    "\n",
    "# 生徒とクラスのペアのリスト\n",
    "SC = [(s,c) for s in S for c in C]\n",
    "\n",
    "# 生徒をどのクラスに割り当てるを変数として定義\n",
    "x = pulp.LpVariable.dicts('x', SC, cat='Binary')\n",
    "\n",
    "# (1)各生徒は１つのクラスに割り当てる\n",
    "for s in S:\n",
    "    prob += pulp.lpSum([x[s,c] for c in C]) == 1\n",
    "\n",
    "# (2)各クラスの生徒の人数は39人以上、40人以下とする。\n",
    "for c in C:\n",
    "    prob += pulp.lpSum([x[s,c] for s in S]) >= 39\n",
    "    prob += pulp.lpSum([x[s,c] for s in S]) <= 40\n",
    "\n",
    "# 男子生徒のリスト\n",
    "S_male = [row.student_id for row in s_dfm.itertuples() if row.gender == 1]\n",
    "\n",
    "# 女子生徒のリスト\n",
    "S_female = [row.student_id for row in s_dfm.itertuples() if row.gender == 0]\n",
    "\n",
    "# (3) 各クラスの男子生徒、女子生徒の人数は20人以下とする。\n",
    "for c in C:\n",
    "    prob += pulp.lpSum([x[s,c] for s in S_male]) <= 20\n",
    "    prob += pulp.lpSum([x[s,c] for s in S_female]) <= 20\n",
    "\n",
    "# 学力を辞書表現に変換\n",
    "score = dict([(row.student_id, row.score) for row in s_dfm.itertuples()])\n",
    "\n",
    "# 平均点の算出\n",
    "score_mean = s_dfm.score.mean()\n",
    "\n",
    "# (4) 各クラスの学力試験の平均点は学年平均点±10点とする。\n",
    "for c in C:\n",
    "    prob += pulp.lpSum([x[s,c]*score[s] for s in S]) >= (score_mean - 10) * pulp.lpSum([x[s,c] for s in S])\n",
    "    prob += pulp.lpSum([x[s,c]*score[s] for s in S]) <= (score_mean + 10) * pulp.lpSum([x[s,c] for s in S])\n",
    "\n",
    "# リーダー気質の生徒の集合\n",
    "S_leader = [row.student_id for row in s_dfm.itertuples() if row.leader_flag == 1]\n",
    "\n",
    "# (5)各クラスにリーダー気質の生徒を2人以上割り当てる。\n",
    "for c in C:\n",
    "    prob += pulp.lpSum([x[s,c] for s in S_leader]) >= 2\n",
    "\n",
    "# 特別な支援が必要な生徒の集合\n",
    "S_support = [row.student_id for row in s_dfm.itertuples() if row.support_flag == 1]\n",
    "\n",
    "# (6) 特別な支援が必要な生徒は各クラスに1人以下とする。\n",
    "for c in C:\n",
    "    prob += pulp.lpSum([x[s,c] for s in S_support]) <= 1\n",
    "\n",
    "    # 生徒の特定ペアリスト\n",
    "SS = [(row.student_id1, row.student_id2) for row in s_pair_dfm.itertuples()]\n",
    "\n",
    "# (7) 特定ペアの生徒は同一クラスに割り当てない。\n",
    "for row in s_pair_dfm.itertuples():\n",
    "    s1 = row.student_id1\n",
    "    s2 = row.student_id2\n",
    "    for c in C:\n",
    "        prob += x[s1,c] + x[s2,c] <= 1\n",
    "\n",
    "# 初期クラス編成のデータを作成\n",
    "# 学力をもとに順位を付与\n",
    "s_dfm['score_rank'] = s_dfm.score.rank(ascending=False, method='first') \n",
    "\n",
    "\n",
    "# 学力順にクラス編成し、init_assigned_classカラムを作成\n",
    "class_dic = {0:'A', 1:'B', 2:'C', 3:'D', 4:'E', 5:'F', 6:'G', 7:'H'}\n",
    "s_dfm['init_assigned_class'] = s_dfm.score_rank.map(lambda x:x % 8).map(class_dic)\n",
    "s_dfm.head()        \n",
    "        \n",
    "    \n",
    "# init_flagを作成\n",
    "init_flag = dict([((s,c), 0)for s in S for c in C])\n",
    "for row in s_dfm.itertuples():\n",
    "    init_flag[row.student_id, row.init_assigned_class] = 1\n",
    "    \n",
    "    \n",
    "# 目的関数:初期クラス編成と最適化結果のクラス編成をできるだけ一致させる\n",
    "prob.objective = pulp.lpSum([x[s,c] * init_flag[s,c] for s,c in SC])        \n",
    "\n",
    "\n",
    "# 求解\n",
    "status = prob.solve()\n",
    "print('Status:', pulp.LpStatus[status])\n",
    "\n",
    "# 最適化結果の表示\n",
    "# 各クラスに割り当てられている生徒のリストを辞書に格納\n",
    "C2Ss = {}\n",
    "for c in C:\n",
    "    C2Ss[c] = [s for s in S if x[s,c].value()==1]\n",
    "\n",
    "for c, Ss in C2Ss.items():\n",
    "    print('Class:', c)\n",
    "    print('Num:', len(Ss))\n",
    "    print('Student:', Ss)\n",
    "    print()"
   ]
  },
  {
   "cell_type": "code",
   "execution_count": null,
   "metadata": {},
   "outputs": [],
   "source": []
  },
  {
   "cell_type": "code",
   "execution_count": 87,
   "metadata": {},
   "outputs": [],
   "source": [
    "for s in S:\n",
    "    # 割り当てられたクラスを取得\n",
    "    assigned_class = [x[s,c].value() for c in C if x[s,c].value()==1]\n",
    "\n",
    "    # 1つのクラスに割り当てられているか確認\n",
    "    if len(assigned_class) != 1:\n",
    "        print('error:', s, c)"
   ]
  },
  {
   "cell_type": "code",
   "execution_count": 88,
   "metadata": {},
   "outputs": [
    {
     "data": {
      "text/html": [
       "<div>\n",
       "<style scoped>\n",
       "    .dataframe tbody tr th:only-of-type {\n",
       "        vertical-align: middle;\n",
       "    }\n",
       "\n",
       "    .dataframe tbody tr th {\n",
       "        vertical-align: top;\n",
       "    }\n",
       "\n",
       "    .dataframe thead th {\n",
       "        text-align: right;\n",
       "    }\n",
       "</style>\n",
       "<table border=\"1\" class=\"dataframe\">\n",
       "  <thead>\n",
       "    <tr style=\"text-align: right;\">\n",
       "      <th></th>\n",
       "      <th>student_id</th>\n",
       "      <th>gender</th>\n",
       "      <th>leader_flag</th>\n",
       "      <th>support_flag</th>\n",
       "      <th>score</th>\n",
       "      <th>score_rank</th>\n",
       "      <th>init_assigned_class</th>\n",
       "      <th>assigned_class</th>\n",
       "    </tr>\n",
       "  </thead>\n",
       "  <tbody>\n",
       "    <tr>\n",
       "      <th>0</th>\n",
       "      <td>1</td>\n",
       "      <td>0</td>\n",
       "      <td>0</td>\n",
       "      <td>0</td>\n",
       "      <td>335</td>\n",
       "      <td>109.0</td>\n",
       "      <td>F</td>\n",
       "      <td>F</td>\n",
       "    </tr>\n",
       "    <tr>\n",
       "      <th>1</th>\n",
       "      <td>2</td>\n",
       "      <td>1</td>\n",
       "      <td>0</td>\n",
       "      <td>0</td>\n",
       "      <td>379</td>\n",
       "      <td>38.0</td>\n",
       "      <td>G</td>\n",
       "      <td>A</td>\n",
       "    </tr>\n",
       "    <tr>\n",
       "      <th>2</th>\n",
       "      <td>3</td>\n",
       "      <td>0</td>\n",
       "      <td>0</td>\n",
       "      <td>0</td>\n",
       "      <td>350</td>\n",
       "      <td>79.0</td>\n",
       "      <td>H</td>\n",
       "      <td>H</td>\n",
       "    </tr>\n",
       "    <tr>\n",
       "      <th>3</th>\n",
       "      <td>4</td>\n",
       "      <td>0</td>\n",
       "      <td>0</td>\n",
       "      <td>0</td>\n",
       "      <td>301</td>\n",
       "      <td>172.0</td>\n",
       "      <td>E</td>\n",
       "      <td>E</td>\n",
       "    </tr>\n",
       "    <tr>\n",
       "      <th>4</th>\n",
       "      <td>5</td>\n",
       "      <td>1</td>\n",
       "      <td>0</td>\n",
       "      <td>0</td>\n",
       "      <td>317</td>\n",
       "      <td>147.0</td>\n",
       "      <td>D</td>\n",
       "      <td>D</td>\n",
       "    </tr>\n",
       "  </tbody>\n",
       "</table>\n",
       "</div>"
      ],
      "text/plain": [
       "   student_id  gender  leader_flag  support_flag  score  score_rank  \\\n",
       "0           1       0            0             0    335       109.0   \n",
       "1           2       1            0             0    379        38.0   \n",
       "2           3       0            0             0    350        79.0   \n",
       "3           4       0            0             0    301       172.0   \n",
       "4           5       1            0             0    317       147.0   \n",
       "\n",
       "  init_assigned_class assigned_class  \n",
       "0                   F              F  \n",
       "1                   G              A  \n",
       "2                   H              H  \n",
       "3                   E              E  \n",
       "4                   D              D  "
      ]
     },
     "execution_count": 88,
     "metadata": {},
     "output_type": "execute_result"
    }
   ],
   "source": [
    "# 検証用のデータフレームの用意\n",
    "result_dfm = s_dfm.copy()\n",
    "\n",
    "# 各生徒がどのクラスに割り当てられたかの情報を辞書に格納\n",
    "S2C = {}\n",
    "for s in S:\n",
    "    S2C[s] = [c for c in C if x[s,c].value()==1][0]\n",
    "\n",
    "# 生徒データに各生徒が度のクラスに割り当てられたかの情報を結合            \n",
    "result_dfm['assigned_class'] = result_dfm.student_id.map(S2C)\n",
    "result_dfm.head(5)"
   ]
  },
  {
   "cell_type": "code",
   "execution_count": 72,
   "metadata": {},
   "outputs": [
    {
     "data": {
      "text/plain": [
       "assigned_class\n",
       "A    40\n",
       "B    40\n",
       "C    40\n",
       "D    40\n",
       "E    40\n",
       "F    39\n",
       "G    40\n",
       "H    39\n",
       "Name: student_id, dtype: int64"
      ]
     },
     "execution_count": 72,
     "metadata": {},
     "output_type": "execute_result"
    }
   ],
   "source": [
    "result_dfm.groupby('assigned_class')['student_id'].count()"
   ]
  },
  {
   "cell_type": "code",
   "execution_count": 73,
   "metadata": {},
   "outputs": [
    {
     "data": {
      "text/plain": [
       "assigned_class  gender\n",
       "A               0         20\n",
       "                1         20\n",
       "B               0         20\n",
       "                1         20\n",
       "C               0         20\n",
       "                1         20\n",
       "D               0         20\n",
       "                1         20\n",
       "E               0         20\n",
       "                1         20\n",
       "F               0         20\n",
       "                1         19\n",
       "G               0         20\n",
       "                1         20\n",
       "H               0         20\n",
       "                1         19\n",
       "Name: student_id, dtype: int64"
      ]
     },
     "execution_count": 73,
     "metadata": {},
     "output_type": "execute_result"
    }
   ],
   "source": [
    "result_dfm.groupby(['assigned_class', 'gender'])['student_id'].count()"
   ]
  },
  {
   "cell_type": "code",
   "execution_count": 74,
   "metadata": {},
   "outputs": [
    {
     "data": {
      "text/plain": [
       "assigned_class\n",
       "A    313.400000\n",
       "B    293.825000\n",
       "C    311.250000\n",
       "D    313.250000\n",
       "E    295.650000\n",
       "F    295.666667\n",
       "G    311.900000\n",
       "H    293.769231\n",
       "Name: score, dtype: float64"
      ]
     },
     "execution_count": 74,
     "metadata": {},
     "output_type": "execute_result"
    }
   ],
   "source": [
    "result_dfm.groupby('assigned_class')['score'].mean()"
   ]
  },
  {
   "cell_type": "code",
   "execution_count": 75,
   "metadata": {},
   "outputs": [
    {
     "data": {
      "text/plain": [
       "assigned_class\n",
       "A    3\n",
       "B    2\n",
       "C    2\n",
       "D    2\n",
       "E    2\n",
       "F    2\n",
       "G    2\n",
       "H    2\n",
       "Name: student_id, dtype: int64"
      ]
     },
     "execution_count": 75,
     "metadata": {},
     "output_type": "execute_result"
    }
   ],
   "source": [
    "result_dfm[result_dfm.leader_flag==1].groupby(['assigned_class'])['student_id'].count()"
   ]
  },
  {
   "cell_type": "code",
   "execution_count": 76,
   "metadata": {},
   "outputs": [
    {
     "data": {
      "text/plain": [
       "assigned_class\n",
       "B    1\n",
       "C    1\n",
       "E    1\n",
       "G    1\n",
       "Name: student_id, dtype: int64"
      ]
     },
     "execution_count": 76,
     "metadata": {},
     "output_type": "execute_result"
    }
   ],
   "source": [
    "result_dfm[result_dfm.support_flag==1].groupby(['assigned_class'])['student_id'].count()"
   ]
  },
  {
   "cell_type": "code",
   "execution_count": 77,
   "metadata": {},
   "outputs": [
    {
     "name": "stdout",
     "output_type": "stream",
     "text": [
      "case: 0\n",
      "s1:118-G\n",
      "s2:189-E\n",
      "\n",
      "case: 1\n",
      "s1:72-E\n",
      "s2:50-B\n",
      "\n",
      "case: 2\n",
      "s1:314-H\n",
      "s2:233-A\n",
      "\n"
     ]
    }
   ],
   "source": [
    "for i, ss in enumerate(SS):\n",
    "    s1, s2 = ss\n",
    "    print('case:',i)\n",
    "    c1 = S2C[s1]\n",
    "    c2 = S2C[s2]\n",
    "    print('s1:{}-{}'.format(s1, c1))\n",
    "    print('s2:{}-{}'.format(s2, c2))\n",
    "    print('')"
   ]
  },
  {
   "cell_type": "code",
   "execution_count": 78,
   "metadata": {},
   "outputs": [],
   "source": [
    "import matplotlib.pyplot as plt"
   ]
  },
  {
   "cell_type": "code",
   "execution_count": 79,
   "metadata": {},
   "outputs": [
    {
     "data": {
      "image/png": "[encoded data removed]",
      "text/plain": [
       "<Figure size 864x1440 with 8 Axes>"
      ]
     },
     "metadata": {
      "needs_background": "light"
     },
     "output_type": "display_data"
    }
   ],
   "source": [
    "fig = plt.figure(figsize=(12,20))\n",
    "for i, c in enumerate(C):\n",
    "    cls_dfm = result_dfm[result_dfm.assigned_class==c]\n",
    "    ax = fig.add_subplot(4, 2, i+1)\n",
    "    ax.hist(cls_dfm.score, bins=range(0,500,40))\n",
    "    ax.set_title('Class:{:s}'.format(c))\n",
    "    ax.set_xlim(0, 500)\n",
    "    ax.set_ylim(0,20)\n",
    "    ax.set_xlabel('score')\n",
    "    ax.set_ylabel('num')"
   ]
  },
  {
   "cell_type": "code",
   "execution_count": 80,
   "metadata": {},
   "outputs": [
    {
     "data": {
      "text/html": [
       "<div>\n",
       "<style scoped>\n",
       "    .dataframe tbody tr th:only-of-type {\n",
       "        vertical-align: middle;\n",
       "    }\n",
       "\n",
       "    .dataframe tbody tr th {\n",
       "        vertical-align: top;\n",
       "    }\n",
       "\n",
       "    .dataframe thead th {\n",
       "        text-align: right;\n",
       "    }\n",
       "</style>\n",
       "<table border=\"1\" class=\"dataframe\">\n",
       "  <thead>\n",
       "    <tr style=\"text-align: right;\">\n",
       "      <th></th>\n",
       "      <th>student_id</th>\n",
       "      <th>gender</th>\n",
       "      <th>leader_flag</th>\n",
       "      <th>support_flag</th>\n",
       "      <th>score</th>\n",
       "      <th>score_rank</th>\n",
       "      <th>init_assigned_class</th>\n",
       "    </tr>\n",
       "  </thead>\n",
       "  <tbody>\n",
       "    <tr>\n",
       "      <th>0</th>\n",
       "      <td>1</td>\n",
       "      <td>0</td>\n",
       "      <td>0</td>\n",
       "      <td>0</td>\n",
       "      <td>335</td>\n",
       "      <td>109.0</td>\n",
       "      <td>F</td>\n",
       "    </tr>\n",
       "    <tr>\n",
       "      <th>1</th>\n",
       "      <td>2</td>\n",
       "      <td>1</td>\n",
       "      <td>0</td>\n",
       "      <td>0</td>\n",
       "      <td>379</td>\n",
       "      <td>38.0</td>\n",
       "      <td>G</td>\n",
       "    </tr>\n",
       "    <tr>\n",
       "      <th>2</th>\n",
       "      <td>3</td>\n",
       "      <td>0</td>\n",
       "      <td>0</td>\n",
       "      <td>0</td>\n",
       "      <td>350</td>\n",
       "      <td>79.0</td>\n",
       "      <td>H</td>\n",
       "    </tr>\n",
       "    <tr>\n",
       "      <th>3</th>\n",
       "      <td>4</td>\n",
       "      <td>0</td>\n",
       "      <td>0</td>\n",
       "      <td>0</td>\n",
       "      <td>301</td>\n",
       "      <td>172.0</td>\n",
       "      <td>E</td>\n",
       "    </tr>\n",
       "    <tr>\n",
       "      <th>4</th>\n",
       "      <td>5</td>\n",
       "      <td>1</td>\n",
       "      <td>0</td>\n",
       "      <td>0</td>\n",
       "      <td>317</td>\n",
       "      <td>147.0</td>\n",
       "      <td>D</td>\n",
       "    </tr>\n",
       "  </tbody>\n",
       "</table>\n",
       "</div>"
      ],
      "text/plain": [
       "   student_id  gender  leader_flag  support_flag  score  score_rank  \\\n",
       "0           1       0            0             0    335       109.0   \n",
       "1           2       1            0             0    379        38.0   \n",
       "2           3       0            0             0    350        79.0   \n",
       "3           4       0            0             0    301       172.0   \n",
       "4           5       1            0             0    317       147.0   \n",
       "\n",
       "  init_assigned_class  \n",
       "0                   F  \n",
       "1                   G  \n",
       "2                   H  \n",
       "3                   E  \n",
       "4                   D  "
      ]
     },
     "execution_count": 80,
     "metadata": {},
     "output_type": "execute_result"
    }
   ],
   "source": [
    "# 初期クラス編成のデータを作成\n",
    "# 学力をもとに順位を付与\n",
    "s_dfm['score_rank'] = s_dfm.score.rank(ascending=False, method='first') \n",
    "\n",
    "# 学力順にクラス編成し、init_assigned_classカラムを作成\n",
    "class_dic = {0:'A', 1:'B', 2:'C', 3:'D', 4:'E', 5:'F', 6:'G', 7:'H'}\n",
    "s_dfm['init_assigned_class'] = s_dfm.score_rank.map(lambda x:x % 8).map(class_dic)\n",
    "s_dfm.head()"
   ]
  },
  {
   "cell_type": "code",
   "execution_count": 81,
   "metadata": {},
   "outputs": [],
   "source": [
    "# init_flagを作成\n",
    "init_flag = dict([((s,c), 0)for s in S for c in C])\n",
    "for row in s_dfm.itertuples():\n",
    "    init_flag[row.student_id, row.init_assigned_class] = 1"
   ]
  },
  {
   "cell_type": "code",
   "execution_count": 82,
   "metadata": {},
   "outputs": [
    {
     "data": {
      "image/png": "[encoded data removed]",
      "text/plain": [
       "<Figure size 864x1440 with 8 Axes>"
      ]
     },
     "metadata": {
      "needs_background": "light"
     },
     "output_type": "display_data"
    }
   ],
   "source": [
    "fig = plt.figure(figsize=(12,20))\n",
    "for i, c in enumerate(C):\n",
    "    cls_dfm = s_dfm[s_dfm.init_assigned_class==c]\n",
    "    ax = fig.add_subplot(4, 2, i+1)\n",
    "    ax.hist(cls_dfm.score, bins=range(0,500,40))\n",
    "    ax.set_title('Class:{:s}'.format(c))\n",
    "    ax.set_xlim(0, 500)\n",
    "    ax.set_ylim(0,20)\n",
    "    ax.set_xlabel('score')\n",
    "    ax.set_ylabel('num')"
   ]
  },
  {
   "cell_type": "code",
   "execution_count": 83,
   "metadata": {},
   "outputs": [],
   "source": [
    "# 目的関数:初期クラス編成と最適化結果のクラス編成をできるだけ一致させる\n",
    "prob.objective = pulp.lpSum([x[s,c] * init_flag[s,c] for s,c in SC])"
   ]
  },
  {
   "cell_type": "code",
   "execution_count": 84,
   "metadata": {},
   "outputs": [
    {
     "data": {
      "text/html": [
       "<div>\n",
       "<style scoped>\n",
       "    .dataframe tbody tr th:only-of-type {\n",
       "        vertical-align: middle;\n",
       "    }\n",
       "\n",
       "    .dataframe tbody tr th {\n",
       "        vertical-align: top;\n",
       "    }\n",
       "\n",
       "    .dataframe thead th {\n",
       "        text-align: right;\n",
       "    }\n",
       "</style>\n",
       "<table border=\"1\" class=\"dataframe\">\n",
       "  <thead>\n",
       "    <tr style=\"text-align: right;\">\n",
       "      <th></th>\n",
       "      <th>student_id</th>\n",
       "      <th>gender</th>\n",
       "      <th>leader_flag</th>\n",
       "      <th>support_flag</th>\n",
       "      <th>score</th>\n",
       "      <th>score_rank</th>\n",
       "      <th>init_assigned_class</th>\n",
       "      <th>assigned_class</th>\n",
       "    </tr>\n",
       "  </thead>\n",
       "  <tbody>\n",
       "    <tr>\n",
       "      <th>0</th>\n",
       "      <td>1</td>\n",
       "      <td>0</td>\n",
       "      <td>0</td>\n",
       "      <td>0</td>\n",
       "      <td>335</td>\n",
       "      <td>109.0</td>\n",
       "      <td>F</td>\n",
       "      <td>C</td>\n",
       "    </tr>\n",
       "    <tr>\n",
       "      <th>1</th>\n",
       "      <td>2</td>\n",
       "      <td>1</td>\n",
       "      <td>0</td>\n",
       "      <td>0</td>\n",
       "      <td>379</td>\n",
       "      <td>38.0</td>\n",
       "      <td>G</td>\n",
       "      <td>A</td>\n",
       "    </tr>\n",
       "    <tr>\n",
       "      <th>2</th>\n",
       "      <td>3</td>\n",
       "      <td>0</td>\n",
       "      <td>0</td>\n",
       "      <td>0</td>\n",
       "      <td>350</td>\n",
       "      <td>79.0</td>\n",
       "      <td>H</td>\n",
       "      <td>C</td>\n",
       "    </tr>\n",
       "    <tr>\n",
       "      <th>3</th>\n",
       "      <td>4</td>\n",
       "      <td>0</td>\n",
       "      <td>0</td>\n",
       "      <td>0</td>\n",
       "      <td>301</td>\n",
       "      <td>172.0</td>\n",
       "      <td>E</td>\n",
       "      <td>E</td>\n",
       "    </tr>\n",
       "    <tr>\n",
       "      <th>4</th>\n",
       "      <td>5</td>\n",
       "      <td>1</td>\n",
       "      <td>0</td>\n",
       "      <td>0</td>\n",
       "      <td>317</td>\n",
       "      <td>147.0</td>\n",
       "      <td>D</td>\n",
       "      <td>E</td>\n",
       "    </tr>\n",
       "  </tbody>\n",
       "</table>\n",
       "</div>"
      ],
      "text/plain": [
       "   student_id  gender  leader_flag  support_flag  score  score_rank  \\\n",
       "0           1       0            0             0    335       109.0   \n",
       "1           2       1            0             0    379        38.0   \n",
       "2           3       0            0             0    350        79.0   \n",
       "3           4       0            0             0    301       172.0   \n",
       "4           5       1            0             0    317       147.0   \n",
       "\n",
       "  init_assigned_class assigned_class  \n",
       "0                   F              C  \n",
       "1                   G              A  \n",
       "2                   H              C  \n",
       "3                   E              E  \n",
       "4                   D              E  "
      ]
     },
     "execution_count": 84,
     "metadata": {},
     "output_type": "execute_result"
    }
   ],
   "source": [
    "# 検証用のデータフレームの用意\n",
    "result_dfm2 = s_dfm.copy()\n",
    "\n",
    "# 各生徒がどのクラスに割り当てられたかの情報を辞書に格納\n",
    "S2C = {}\n",
    "for s in S:\n",
    "    S2C[s] = [c for c in C if x[s,c].value()==1][0]\n",
    "\n",
    "# 生徒データに各生徒が度のクラスに割り当てられたかの情報を結合            \n",
    "result_dfm2['assigned_class'] = result_dfm2.student_id.map(S2C)\n",
    "result_dfm2.head(5)"
   ]
  },
  {
   "cell_type": "code",
   "execution_count": 85,
   "metadata": {},
   "outputs": [
    {
     "data": {
      "image/png": "[encoded data removed]",
      "text/plain": [
       "<Figure size 864x1440 with 8 Axes>"
      ]
     },
     "metadata": {
      "needs_background": "light"
     },
     "output_type": "display_data"
    }
   ],
   "source": [
    "fig = plt.figure(figsize=(12,20))\n",
    "for i, c in enumerate(C):\n",
    "    cls_dfm = result_dfm2[result_dfm2.assigned_class==c]\n",
    "    ax = fig.add_subplot(4, 2, i+1)\n",
    "    ax.hist(cls_dfm.score, bins=range(0,500,40))\n",
    "    ax.set_title('Class:{:s}'.format(c))\n",
    "    ax.set_xlim(0, 500)\n",
    "    ax.set_ylim(0,15)\n",
    "    ax.set_xlabel('score')\n",
    "    ax.set_ylabel('num')"
   ]
  },
  {
   "cell_type": "code",
   "execution_count": 92,
   "metadata": {},
   "outputs": [
    {
     "name": "stdout",
     "output_type": "stream",
     "text": [
      "Status: Optimal\n",
      "Class: A\n",
      "Num: 40\n",
      "Student: [2, 23, 56, 68, 76, 82, 89, 102, 106, 113, 115, 121, 123, 124, 127, 140, 172, 173, 185, 186, 204, 210, 228, 255, 267, 273, 274, 280, 285, 288, 289, 292, 295, 297, 304, 308, 311, 313, 316, 318]\n",
      "\n",
      "Class: B\n",
      "Num: 39\n",
      "Student: [11, 14, 17, 30, 32, 35, 41, 49, 64, 66, 79, 83, 86, 88, 97, 114, 119, 122, 132, 134, 141, 149, 151, 165, 175, 178, 190, 198, 200, 209, 213, 216, 226, 237, 272, 296, 303, 306, 307]\n",
      "\n",
      "Class: C\n",
      "Num: 40\n",
      "Student: [21, 38, 44, 46, 51, 54, 62, 63, 73, 75, 84, 85, 99, 120, 138, 142, 143, 144, 150, 166, 183, 184, 192, 193, 195, 201, 205, 207, 211, 212, 217, 221, 222, 243, 244, 263, 264, 287, 299, 315]\n",
      "\n",
      "Class: D\n",
      "Num: 40\n",
      "Student: [5, 24, 39, 47, 50, 61, 67, 74, 90, 92, 93, 100, 109, 116, 131, 136, 147, 152, 155, 167, 169, 170, 176, 177, 196, 199, 214, 218, 219, 227, 230, 231, 236, 238, 239, 253, 257, 259, 271, 309]\n",
      "\n",
      "Class: E\n",
      "Num: 39\n",
      "Student: [4, 8, 12, 13, 19, 22, 33, 43, 48, 55, 57, 59, 98, 112, 125, 130, 133, 137, 139, 153, 160, 189, 203, 234, 235, 240, 241, 249, 251, 254, 256, 261, 266, 268, 276, 283, 291, 294, 302]\n",
      "\n",
      "Class: F\n",
      "Num: 40\n",
      "Student: [1, 6, 16, 27, 28, 29, 40, 42, 45, 58, 70, 77, 91, 118, 128, 129, 135, 145, 146, 148, 156, 161, 162, 163, 174, 181, 188, 194, 202, 224, 229, 246, 258, 260, 262, 265, 286, 290, 300, 310]\n",
      "\n",
      "Class: G\n",
      "Num: 40\n",
      "Student: [7, 9, 10, 15, 18, 26, 31, 36, 37, 52, 71, 78, 80, 94, 96, 101, 104, 110, 126, 157, 159, 179, 180, 182, 191, 197, 215, 242, 245, 247, 248, 252, 275, 277, 282, 293, 298, 305, 312, 314]\n",
      "\n",
      "Class: H\n",
      "Num: 40\n",
      "Student: [3, 20, 25, 34, 53, 60, 65, 69, 72, 81, 87, 95, 103, 105, 107, 108, 111, 117, 154, 158, 164, 168, 171, 187, 206, 208, 220, 223, 225, 232, 233, 250, 269, 270, 278, 279, 281, 284, 301, 317]\n",
      "\n"
     ]
    }
   ],
   "source": [
    "import pandas\n",
    "import pulp\n",
    "\n",
    "s_dfm = pandas.read_csv('students.csv')\n",
    "s_pair_dfm = pandas.read_csv('student_pairs.csv')\n",
    "\n",
    "prob = pulp.LpProblem('ClassAssignmentProblem', pulp.LpMaximize)\n",
    "\n",
    "# 生徒のリスト\n",
    "S = s_dfm.student_id.tolist()\n",
    "\n",
    "# クラスのリスト\n",
    "C = ['A', 'B', 'C', 'D', 'E', 'F', 'G', 'H']\n",
    "\n",
    "# 生徒とクラスのペアのリスト\n",
    "SC = [(s,c) for s in S for c in C]\n",
    "\n",
    "# 生徒をどのクラスに割り当てるを変数として定義\n",
    "x = pulp.LpVariable.dicts('x', SC, cat='Binary')\n",
    "\n",
    "# (1)各生徒は１つのクラスに割り当てる\n",
    "for s in S:\n",
    "    prob += pulp.lpSum([x[s,c] for c in C]) == 1\n",
    "\n",
    "# (2)各クラスの生徒の人数は39人以上、40人以下とする。\n",
    "for c in C:\n",
    "    prob += pulp.lpSum([x[s,c] for s in S]) >= 39\n",
    "    prob += pulp.lpSum([x[s,c] for s in S]) <= 40\n",
    "\n",
    "# 男子生徒のリスト\n",
    "S_male = [row.student_id for row in s_dfm.itertuples() if row.gender == 1]\n",
    "\n",
    "# 女子生徒のリスト\n",
    "S_female = [row.student_id for row in s_dfm.itertuples() if row.gender == 0]\n",
    "\n",
    "# (3) 各クラスの男子生徒、女子生徒の人数は20人以下とする。\n",
    "for c in C:\n",
    "    prob += pulp.lpSum([x[s,c] for s in S_male]) <= 20\n",
    "    prob += pulp.lpSum([x[s,c] for s in S_female]) <= 20\n",
    "\n",
    "# 学力を辞書表現に変換\n",
    "score = dict([(row.student_id, row.score) for row in s_dfm.itertuples()])\n",
    "\n",
    "# 平均点の算出\n",
    "score_mean = s_dfm.score.mean()\n",
    "\n",
    "# (4) 各クラスの学力試験の平均点は学年平均点±10点とする。\n",
    "for c in C:\n",
    "    prob += pulp.lpSum([x[s,c]*score[s] for s in S]) >= (score_mean - 10) * pulp.lpSum([x[s,c] for s in S])\n",
    "    prob += pulp.lpSum([x[s,c]*score[s] for s in S]) <= (score_mean + 10) * pulp.lpSum([x[s,c] for s in S])\n",
    "\n",
    "# リーダー気質の生徒の集合\n",
    "S_leader = [row.student_id for row in s_dfm.itertuples() if row.leader_flag == 1]\n",
    "\n",
    "# (5)各クラスにリーダー気質の生徒を2人以上割り当てる。\n",
    "for c in C:\n",
    "    prob += pulp.lpSum([x[s,c] for s in S_leader]) >= 2\n",
    "\n",
    "# 特別な支援が必要な生徒の集合\n",
    "S_support = [row.student_id for row in s_dfm.itertuples() if row.support_flag == 1]\n",
    "\n",
    "# (6) 特別な支援が必要な生徒は各クラスに1人以下とする。\n",
    "for c in C:\n",
    "    prob += pulp.lpSum([x[s,c] for s in S_support]) <= 1\n",
    "\n",
    "    # 生徒の特定ペアリスト\n",
    "SS = [(row.student_id1, row.student_id2) for row in s_pair_dfm.itertuples()]\n",
    "\n",
    "# (7) 特定ペアの生徒は同一クラスに割り当てない。\n",
    "for row in s_pair_dfm.itertuples():\n",
    "    s1 = row.student_id1\n",
    "    s2 = row.student_id2\n",
    "    for c in C:\n",
    "        prob += x[s1,c] + x[s2,c] <= 1\n",
    "\n",
    "#ここから修正する        \n",
    "        \n",
    "        \n",
    "# 初期クラス編成のデータを作成\n",
    "# 学力をもとに順位を付与\n",
    "s_dfm['score_rank'] = s_dfm.score.rank(ascending=False, method='first') \n",
    "\n",
    "\n",
    "# 学力順にクラス編成し、init_assigned_classカラムを作成\n",
    "class_dic = {0:'A', 1:'B', 2:'C', 3:'D', 4:'E', 5:'F', 6:'G', 7:'H'}\n",
    "s_dfm['init_assigned_class'] = s_dfm.score_rank.map(lambda x:x % 8).map(class_dic)\n",
    "s_dfm.head()        \n",
    "        \n",
    "    \n",
    "# init_flagを作成\n",
    "init_flag = dict([((s,c), 0)for s in S for c in C])\n",
    "for row in s_dfm.itertuples():\n",
    "    init_flag[row.student_id, row.init_assigned_class] = 1\n",
    "    \n",
    "    \n",
    "# 目的関数:初期クラス編成と最適化結果のクラス編成をできるだけ一致させる\n",
    "prob.objective = pulp.lpSum([x[s,c] * init_flag[s,c] for s,c in SC])        \n",
    "\n",
    "\n",
    "# 求解\n",
    "status = prob.solve()\n",
    "print('Status:', pulp.LpStatus[status])\n",
    "\n",
    "# 最適化結果の表示\n",
    "# 各クラスに割り当てられている生徒のリストを辞書に格納\n",
    "C2Ss = {}\n",
    "for c in C:\n",
    "    C2Ss[c] = [s for s in S if x[s,c].value()==1]\n",
    "\n",
    "for c, Ss in C2Ss.items():\n",
    "    print('Class:', c)\n",
    "    print('Num:', len(Ss))\n",
    "    print('Student:', Ss)\n",
    "    print()"
   ]
  },
  {
   "cell_type": "code",
   "execution_count": 93,
   "metadata": {},
   "outputs": [
    {
     "data": {
      "text/html": [
       "<div>\n",
       "<style scoped>\n",
       "    .dataframe tbody tr th:only-of-type {\n",
       "        vertical-align: middle;\n",
       "    }\n",
       "\n",
       "    .dataframe tbody tr th {\n",
       "        vertical-align: top;\n",
       "    }\n",
       "\n",
       "    .dataframe thead th {\n",
       "        text-align: right;\n",
       "    }\n",
       "</style>\n",
       "<table border=\"1\" class=\"dataframe\">\n",
       "  <thead>\n",
       "    <tr style=\"text-align: right;\">\n",
       "      <th></th>\n",
       "      <th>student_id</th>\n",
       "      <th>gender</th>\n",
       "      <th>leader_flag</th>\n",
       "      <th>support_flag</th>\n",
       "      <th>score</th>\n",
       "      <th>score_rank</th>\n",
       "      <th>init_assigned_class</th>\n",
       "      <th>assigned_class</th>\n",
       "    </tr>\n",
       "  </thead>\n",
       "  <tbody>\n",
       "    <tr>\n",
       "      <th>0</th>\n",
       "      <td>1</td>\n",
       "      <td>0</td>\n",
       "      <td>0</td>\n",
       "      <td>0</td>\n",
       "      <td>335</td>\n",
       "      <td>109.0</td>\n",
       "      <td>F</td>\n",
       "      <td>F</td>\n",
       "    </tr>\n",
       "    <tr>\n",
       "      <th>1</th>\n",
       "      <td>2</td>\n",
       "      <td>1</td>\n",
       "      <td>0</td>\n",
       "      <td>0</td>\n",
       "      <td>379</td>\n",
       "      <td>38.0</td>\n",
       "      <td>G</td>\n",
       "      <td>A</td>\n",
       "    </tr>\n",
       "    <tr>\n",
       "      <th>2</th>\n",
       "      <td>3</td>\n",
       "      <td>0</td>\n",
       "      <td>0</td>\n",
       "      <td>0</td>\n",
       "      <td>350</td>\n",
       "      <td>79.0</td>\n",
       "      <td>H</td>\n",
       "      <td>H</td>\n",
       "    </tr>\n",
       "    <tr>\n",
       "      <th>3</th>\n",
       "      <td>4</td>\n",
       "      <td>0</td>\n",
       "      <td>0</td>\n",
       "      <td>0</td>\n",
       "      <td>301</td>\n",
       "      <td>172.0</td>\n",
       "      <td>E</td>\n",
       "      <td>E</td>\n",
       "    </tr>\n",
       "    <tr>\n",
       "      <th>4</th>\n",
       "      <td>5</td>\n",
       "      <td>1</td>\n",
       "      <td>0</td>\n",
       "      <td>0</td>\n",
       "      <td>317</td>\n",
       "      <td>147.0</td>\n",
       "      <td>D</td>\n",
       "      <td>D</td>\n",
       "    </tr>\n",
       "  </tbody>\n",
       "</table>\n",
       "</div>"
      ],
      "text/plain": [
       "   student_id  gender  leader_flag  support_flag  score  score_rank  \\\n",
       "0           1       0            0             0    335       109.0   \n",
       "1           2       1            0             0    379        38.0   \n",
       "2           3       0            0             0    350        79.0   \n",
       "3           4       0            0             0    301       172.0   \n",
       "4           5       1            0             0    317       147.0   \n",
       "\n",
       "  init_assigned_class assigned_class  \n",
       "0                   F              F  \n",
       "1                   G              A  \n",
       "2                   H              H  \n",
       "3                   E              E  \n",
       "4                   D              D  "
      ]
     },
     "execution_count": 93,
     "metadata": {},
     "output_type": "execute_result"
    }
   ],
   "source": [
    "# 検証用のデータフレームの用意\n",
    "result_dfm2 = s_dfm.copy()\n",
    "\n",
    "# 各生徒がどのクラスに割り当てられたかの情報を辞書に格納\n",
    "S2C = {}\n",
    "for s in S:\n",
    "    S2C[s] = [c for c in C if x[s,c].value()==1][0]\n",
    "\n",
    "# 生徒データに各生徒が度のクラスに割り当てられたかの情報を結合            \n",
    "result_dfm2['assigned_class'] = result_dfm2.student_id.map(S2C)\n",
    "result_dfm2.head(5)"
   ]
  },
  {
   "cell_type": "code",
   "execution_count": 94,
   "metadata": {},
   "outputs": [
    {
     "data": {
      "image/png": "[encoded data removed]",
      "text/plain": [
       "<Figure size 864x1440 with 8 Axes>"
      ]
     },
     "metadata": {
      "needs_background": "light"
     },
     "output_type": "display_data"
    }
   ],
   "source": [
    "fig = plt.figure(figsize=(12,20))\n",
    "for i, c in enumerate(C):\n",
    "    cls_dfm = result_dfm2[result_dfm2.assigned_class==c]\n",
    "    ax = fig.add_subplot(4, 2, i+1)\n",
    "    ax.hist(cls_dfm.score, bins=range(0,500,40))\n",
    "    ax.set_title('Class:{:s}'.format(c))\n",
    "    ax.set_xlim(0, 500)\n",
    "    ax.set_ylim(0,15)\n",
    "    ax.set_xlabel('score')\n",
    "    ax.set_ylabel('num')"
   ]
  },
  {
   "cell_type": "code",
   "execution_count": null,
   "metadata": {},
   "outputs": [],
   "source": []
  }
 ],
 "metadata": {
  "kernelspec": {
   "display_name": "Python 3",
   "language": "python",
   "name": "python3"
  },
  "language_info": {
   "codemirror_mode": {
    "name": "ipython",
    "version": 3
   },
   "file_extension": ".py",
   "mimetype": "text/x-python",
   "name": "python",
   "nbconvert_exporter": "python",
   "pygments_lexer": "ipython3",
   "version": "3.7.6"
  }
 },
 "nbformat": 4,
 "nbformat_minor": 4
}
